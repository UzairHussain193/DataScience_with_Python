{
 "cells": [
  {
   "attachments": {},
   "cell_type": "markdown",
   "metadata": {},
   "source": [
    "# Libraries\n",
    "we are starting with libraries such as\n",
    "1. pandas -> handling data / EDA\n",
    "2. numpy -> for data visualization\n",
    "3. matplotlib -> plotting graphs\n",
    "4. seaborn -> adding matplotlib and have extra features\n",
    "5. plotly -> interactive graphs/ 3d plots\n",
    "6. scipystats / scipy / scipy.stats -> statistical analysis\n",
    "7. scikit-learn -> machine learning\n",
    "8. streamlit -> dashboards"
   ]
  },
  {
   "cell_type": "code",
   "execution_count": 6,
   "metadata": {},
   "outputs": [],
   "source": [
    "import pandas as pd\n",
    "import numpy as np\n",
    "import matplotlib.pyplot as plt\n",
    "import seaborn as sns\n",
    "import plotly as px\n"
   ]
  },
  {
   "cell_type": "code",
   "execution_count": null,
   "metadata": {},
   "outputs": [],
   "source": [
    "# plotting\n",
    "import matplotlib.pyplot as plt\n",
    "\n",
    "# Define the planet names and their corresponding masses\n",
    "planet_names = ['Mercury', 'Venus', 'Earth', 'Mars', 'Jupiter', 'Saturn', 'Uranus', 'Neptune']\n",
    "planet_masses = [0.330, 4.87, 5.97, 0.642, 1898, 568, 86.8, 102]\n",
    "\n",
    "# Plotting the graph\n",
    "plt.figure(figsize=(8, 5))  # Set the figure size\n",
    "plt.bar(planet_names, planet_masses)  # Plotting a bar graph\n",
    "\n",
    "# Customize the graph\n",
    "plt.title('Masses of Planets')\n",
    "plt.xlabel('Planet')\n",
    "plt.ylabel('Mass (x 10^24 kg)')\n",
    "\n",
    "# Rotate the x-axis labels for better visibility\n",
    "plt.xticks(rotation=45)\n",
    "\n",
    "# Display the graph\n",
    "plt.show()\n",
    "\n"
   ]
  },
  {
   "cell_type": "code",
   "execution_count": null,
   "metadata": {},
   "outputs": [],
   "source": [
    "planet_names = ['Mercury', 'Venus', 'Earth', 'Mars', 'Jupiter', 'Saturn', 'Uranus', 'Neptune']\n",
    "planet_masses = [0.33, 4.87, 5.97, 0.642, 1898, 568, 86.8, 102]\n",
    "planet_names = ['Mercury', 'Venus', 'Earth', 'Mars', 'Jupiter', 'Saturn', 'Uranus', 'Neptune']\n",
    "planet_masses = [0.33, 4.87, 5.97, 0.642, 1898, 568, 86.8, 102]\n",
    "data = {'Planet': planet_names, 'Mass (Earth Masses)': planet_masses}\n",
    "df = pd.DataFrame(data)\n",
    "sns.barplot(x='Planet', y='Mass (Earth Masses)', data=df)\n",
    "plt.xlabel('Planet')\n",
    "plt.ylabel('Mass (Earth Masses)')\n",
    "plt.title('Masses of Planets')\n",
    "plt.xticks(rotation=45)\n",
    "plt.show()\n",
    "\n"
   ]
  },
  {
   "cell_type": "code",
   "execution_count": null,
   "metadata": {},
   "outputs": [],
   "source": []
  }
 ],
 "metadata": {
  "kernelspec": {
   "display_name": "Python 3",
   "language": "python",
   "name": "python3"
  },
  "language_info": {
   "codemirror_mode": {
    "name": "ipython",
    "version": 3
   },
   "file_extension": ".py",
   "mimetype": "text/x-python",
   "name": "python",
   "nbconvert_exporter": "python",
   "pygments_lexer": "ipython3",
   "version": "3.11.1"
  },
  "orig_nbformat": 4,
  "vscode": {
   "interpreter": {
    "hash": "ff4b1fca65a764b45acb559e482afe389d289dd599b9f8c5fd12ff5c2ea46a65"
   }
  }
 },
 "nbformat": 4,
 "nbformat_minor": 2
}
